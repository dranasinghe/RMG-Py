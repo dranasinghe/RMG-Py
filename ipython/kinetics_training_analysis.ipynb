{
 "cells": [
  {
   "cell_type": "markdown",
   "metadata": {},
   "source": [
    "# Find Arrhenius format for filter threshold\n",
    "\n",
    "This script prints out Arrhenius format data to be copied to rmgpy/solver/simple.pyx def get_uni_bimolecular_threshold_rate_constant(T). Whatch out for order with reaction list in def get_filterlist_of_all_RMG_families()."
   ]
  },
  {
   "cell_type": "code",
   "execution_count": 1,
   "metadata": {},
   "outputs": [
    {
     "name": "stderr",
     "output_type": "stream",
     "text": [
      "Using Theano backend.\n"
     ]
    }
   ],
   "source": [
    "import os\n",
    "import unittest \n",
    "import numpy as np\n",
    "from rmgpy import settings\n",
    "from rmgpy.data.kinetics.database import KineticsDatabase\n",
    "from rmgpy.data.base import DatabaseError\n",
    "import numpy\n",
    "from copy import deepcopy\n",
    "from rmgpy.molecule.molecule import Molecule\n",
    "from rmgpy.species import Species\n",
    "from rmgpy.data.rmg import RMGDatabase\n",
    "from rmgpy.data.kinetics.common import KineticsError, saveEntry\n",
    "from rmgpy.kinetics.arrhenius import Arrhenius\n",
    "\n",
    "import matplotlib.pyplot as plt\n",
    "%matplotlib inline"
   ]
  },
  {
   "cell_type": "code",
   "execution_count": 2,
   "metadata": {},
   "outputs": [],
   "source": [
    "path = os.path.join(settings['database.directory'], 'kinetics','families')\n",
    "database = RMGDatabase()\n",
    "database.load(\n",
    "            path = settings['database.directory'],\n",
    "            thermoLibraries = ['primaryThermoLibrary','Klippenstein_Glarborg2016','BurkeH2O2','thermo_DFT_CCSDTF12_BAC','CBS_QB3_1dHR', 'DFT_QCI_thermo'],\n",
    "            transportLibraries = [],\n",
    "            reactionLibraries = [],\n",
    "            seedMechanisms = [],\n",
    "            kineticsFamilies = 'all',\n",
    "            kineticsDepositories = ['training'],\n",
    "            depository = False,\n",
    "        )"
   ]
  },
  {
   "cell_type": "code",
   "execution_count": 3,
   "metadata": {},
   "outputs": [],
   "source": [
    "# Copy the name of the family here\n",
    "fam = database.kinetics.families['Peroxyl_Disproportionation']"
   ]
  },
  {
   "cell_type": "code",
   "execution_count": 4,
   "metadata": {},
   "outputs": [],
   "source": [
    "dep = fam.getTrainingDepository()"
   ]
  },
  {
   "cell_type": "code",
   "execution_count": 5,
   "metadata": {},
   "outputs": [
    {
     "name": "stderr",
     "output_type": "stream",
     "text": [
      "/Users/agnes/PycharmProjects/RMG-Py/rmgpy/tools/plot.py:34: UserWarning: \n",
      "This call to matplotlib.use() has no effect because the backend has already\n",
      "been chosen; matplotlib.use() must be called *before* pylab, matplotlib.pyplot,\n",
      "or matplotlib.backends is imported for the first time.\n",
      "\n",
      "The backend was *originally* set to 'module://ipykernel.pylab.backend_inline' by the following code:\n",
      "  File \"/Users/agnes/Documents/Software/Miniconda3/envs/rmg_env/lib/python2.7/runpy.py\", line 174, in _run_module_as_main\n",
      "    \"__main__\", fname, loader, pkg_name)\n",
      "  File \"/Users/agnes/Documents/Software/Miniconda3/envs/rmg_env/lib/python2.7/runpy.py\", line 72, in _run_code\n",
      "    exec code in run_globals\n",
      "  File \"/Users/agnes/Documents/Software/Miniconda3/envs/rmg_env/lib/python2.7/site-packages/ipykernel_launcher.py\", line 16, in <module>\n",
      "    app.launch_new_instance()\n",
      "  File \"/Users/agnes/Documents/Software/Miniconda3/envs/rmg_env/lib/python2.7/site-packages/traitlets/config/application.py\", line 658, in launch_instance\n",
      "    app.start()\n",
      "  File \"/Users/agnes/Documents/Software/Miniconda3/envs/rmg_env/lib/python2.7/site-packages/ipykernel/kernelapp.py\", line 499, in start\n",
      "    self.io_loop.start()\n",
      "  File \"/Users/agnes/Documents/Software/Miniconda3/envs/rmg_env/lib/python2.7/site-packages/tornado/ioloop.py\", line 1073, in start\n",
      "    handler_func(fd_obj, events)\n",
      "  File \"/Users/agnes/Documents/Software/Miniconda3/envs/rmg_env/lib/python2.7/site-packages/tornado/stack_context.py\", line 300, in null_wrapper\n",
      "    return fn(*args, **kwargs)\n",
      "  File \"/Users/agnes/Documents/Software/Miniconda3/envs/rmg_env/lib/python2.7/site-packages/zmq/eventloop/zmqstream.py\", line 456, in _handle_events\n",
      "    self._handle_recv()\n",
      "  File \"/Users/agnes/Documents/Software/Miniconda3/envs/rmg_env/lib/python2.7/site-packages/zmq/eventloop/zmqstream.py\", line 486, in _handle_recv\n",
      "    self._run_callback(callback, msg)\n",
      "  File \"/Users/agnes/Documents/Software/Miniconda3/envs/rmg_env/lib/python2.7/site-packages/zmq/eventloop/zmqstream.py\", line 438, in _run_callback\n",
      "    callback(*args, **kwargs)\n",
      "  File \"/Users/agnes/Documents/Software/Miniconda3/envs/rmg_env/lib/python2.7/site-packages/tornado/stack_context.py\", line 300, in null_wrapper\n",
      "    return fn(*args, **kwargs)\n",
      "  File \"/Users/agnes/Documents/Software/Miniconda3/envs/rmg_env/lib/python2.7/site-packages/ipykernel/kernelbase.py\", line 283, in dispatcher\n",
      "    return self.dispatch_shell(stream, msg)\n",
      "  File \"/Users/agnes/Documents/Software/Miniconda3/envs/rmg_env/lib/python2.7/site-packages/ipykernel/kernelbase.py\", line 233, in dispatch_shell\n",
      "    handler(stream, idents, msg)\n",
      "  File \"/Users/agnes/Documents/Software/Miniconda3/envs/rmg_env/lib/python2.7/site-packages/ipykernel/kernelbase.py\", line 399, in execute_request\n",
      "    user_expressions, allow_stdin)\n",
      "  File \"/Users/agnes/Documents/Software/Miniconda3/envs/rmg_env/lib/python2.7/site-packages/ipykernel/ipkernel.py\", line 208, in do_execute\n",
      "    res = shell.run_cell(code, store_history=store_history, silent=silent)\n",
      "  File \"/Users/agnes/Documents/Software/Miniconda3/envs/rmg_env/lib/python2.7/site-packages/ipykernel/zmqshell.py\", line 537, in run_cell\n",
      "    return super(ZMQInteractiveShell, self).run_cell(*args, **kwargs)\n",
      "  File \"/Users/agnes/Documents/Software/Miniconda3/envs/rmg_env/lib/python2.7/site-packages/IPython/core/interactiveshell.py\", line 2724, in run_cell\n",
      "    self.events.trigger('post_run_cell')\n",
      "  File \"/Users/agnes/Documents/Software/Miniconda3/envs/rmg_env/lib/python2.7/site-packages/IPython/core/events.py\", line 74, in trigger\n",
      "    func(*args, **kwargs)\n",
      "  File \"/Users/agnes/Documents/Software/Miniconda3/envs/rmg_env/lib/python2.7/site-packages/ipykernel/pylab/backend_inline.py\", line 164, in configure_once\n",
      "    activate_matplotlib(backend)\n",
      "  File \"/Users/agnes/Documents/Software/Miniconda3/envs/rmg_env/lib/python2.7/site-packages/IPython/core/pylabtools.py\", line 315, in activate_matplotlib\n",
      "    matplotlib.pyplot.switch_backend(backend)\n",
      "  File \"/Users/agnes/Documents/Software/Miniconda3/envs/rmg_env/lib/python2.7/site-packages/matplotlib/pyplot.py\", line 231, in switch_backend\n",
      "    matplotlib.use(newbackend, warn=False, force=True)\n",
      "  File \"/Users/agnes/Documents/Software/Miniconda3/envs/rmg_env/lib/python2.7/site-packages/matplotlib/__init__.py\", line 1422, in use\n",
      "    reload(sys.modules['matplotlib.backends'])\n",
      "  File \"/Users/agnes/Documents/Software/Miniconda3/envs/rmg_env/lib/python2.7/site-packages/matplotlib/backends/__init__.py\", line 16, in <module>\n",
      "    line for line in traceback.format_stack()\n",
      "\n",
      "\n",
      "  mpl.use('Agg')\n"
     ]
    }
   ],
   "source": [
    "# Load species thermo\n",
    "rxns = []\n",
    "for entry in dep.entries.values():\n",
    "    r = entry.item\n",
    "    r.kinetics = entry.data\n",
    "    for spc in r.reactants+r.products:\n",
    "        if spc.thermo is None:\n",
    "            spc.thermo = database.thermo.getThermoData(spc)\n",
    "    rxns.append(r)"
   ]
  },
  {
   "cell_type": "code",
   "execution_count": 6,
   "metadata": {},
   "outputs": [],
   "source": [
    "# Identify uni- and bimolecular reactions\n",
    "kunim = []\n",
    "kbim = []\n",
    "for rxn in rxns:\n",
    "    if len(rxn.reactants) == 1:\n",
    "        kunim.append(rxn.kinetics)\n",
    "    elif len(rxn.reactants) == 2:\n",
    "        kbim.append(rxn.kinetics)\n",
    "    if len(rxn.products) == 1:\n",
    "        kunim.append(rxn.generateReverseRateCoefficient())\n",
    "    elif len(rxn.products) == 2:\n",
    "        kbim.append(rxn.generateReverseRateCoefficient())"
   ]
  },
  {
   "cell_type": "code",
   "execution_count": 7,
   "metadata": {},
   "outputs": [],
   "source": [
    "Ts = np.linspace(300,2500,30)"
   ]
  },
  {
   "cell_type": "code",
   "execution_count": 8,
   "metadata": {},
   "outputs": [],
   "source": [
    "# Unimolecular result if any\n",
    "kunimaxes = []\n",
    "for T in Ts:\n",
    "    try:\n",
    "        kvals = [k.getRateCoefficient(T) for k in kunim]\n",
    "        kval = max(kvals)\n",
    "        kunimaxes.append(kval)\n",
    "    except:\n",
    "        pass\n",
    "    \n",
    "try:\n",
    "    arruni = Arrhenius().fitToData(Ts,np.array(kunimaxes),'s^-1')\n",
    "    print arruni\n",
    "    plt.semilogy(1000.0/Ts,kunimaxes)\n",
    "    plt.xlabel(\"1000/T (1/K)\")\n",
    "    plt.ylabel(\"k 1/s\")\n",
    "except:\n",
    "    pass"
   ]
  },
  {
   "cell_type": "code",
   "execution_count": 9,
   "metadata": {},
   "outputs": [
    {
     "name": "stdout",
     "output_type": "stream",
     "text": [
      "Arrhenius(A=(1.1e+06,'m^3/(mol*s)'), n=-1.05506e-14, Ea=(-4.184,'kJ/mol'), T0=(1,'K'), Tmin=(300,'K'), Tmax=(2500,'K'), comment=\"\"\"Fitted to 30 data points; dA = *|/ 1, dn = +|- 1.19083e-15, dEa = +|- 8.12686e-15 kJ/mol\"\"\")\n"
     ]
    },
    {
     "data": {
      "image/png": "[encoded data removed]",
      "text/plain": [
       "<Figure size 432x288 with 1 Axes>"
      ]
     },
     "metadata": {
      "needs_background": "light"
     },
     "output_type": "display_data"
    }
   ],
   "source": [
    "# Bimolecular result if any\n",
    "kbimaxes = []\n",
    "for T in Ts:\n",
    "    try:\n",
    "        kvals = [k.getRateCoefficient(T) for k in kbim]\n",
    "        kval = max(kvals)\n",
    "        kbimaxes.append(kval)\n",
    "    except:\n",
    "        pass\n",
    "    \n",
    "try:\n",
    "    arrbi = Arrhenius().fitToData(Ts,np.array(kbimaxes),'m^3/(mol*s)')\n",
    "    print arrbi\n",
    "    plt.semilogy(1000.0/Ts,kbimaxes)\n",
    "    plt.xlabel(\"1000/T (1/K)\")\n",
    "    plt.ylabel(\"k m3/(mol*s)\")\n",
    "except:\n",
    "    pass"
   ]
  },
  {
   "cell_type": "code",
   "execution_count": null,
   "metadata": {},
   "outputs": [],
   "source": []
  },
  {
   "cell_type": "code",
   "execution_count": null,
   "metadata": {},
   "outputs": [],
   "source": []
  }
 ],
 "metadata": {
  "kernelspec": {
   "display_name": "Python 2",
   "language": "python",
   "name": "python2"
  },
  "language_info": {
   "codemirror_mode": {
    "name": "ipython",
    "version": 2
   },
   "file_extension": ".py",
   "mimetype": "text/x-python",
   "name": "python",
   "nbconvert_exporter": "python",
   "pygments_lexer": "ipython2",
   "version": "2.7.16"
  }
 },
 "nbformat": 4,
 "nbformat_minor": 2
}
